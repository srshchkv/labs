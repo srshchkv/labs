{
 "cells": [
  {
   "cell_type": "markdown",
   "metadata": {
    "id": "j34lRyy6HeoY"
   },
   "source": [
    "# Работа со строковыми значениями"
   ]
  },
  {
   "cell_type": "markdown",
   "metadata": {
    "id": "6JRnHF41Heob"
   },
   "source": [
    "__Автор задач: Блохин Н.В. (NVBlokhin@fa.ru)__\n",
    "\n",
    "Материалы:\n",
    "* Макрушин С.В. Лекция \"Работа со строковыми значениям\"\n",
    "* https://pyformat.info/\n",
    "* https://docs.python.org/3/library/re.html\n",
    "    * https://docs.python.org/3/library/re.html#flags\n",
    "    * https://docs.python.org/3/library/re.html#functions\n",
    "* https://pythonru.com/primery/primery-primeneniya-regulyarnyh-vyrazheniy-v-python\n",
    "* https://kanoki.org/2019/11/12/how-to-use-regex-in-pandas/\n",
    "* https://realpython.com/nltk-nlp-python/"
   ]
  },
  {
   "cell_type": "markdown",
   "metadata": {
    "id": "ZYgCOXOkHeoc"
   },
   "source": [
    "## Задачи для совместного разбора"
   ]
  },
  {
   "cell_type": "markdown",
   "metadata": {
    "id": "68iI4mtgHeoc"
   },
   "source": [
    "1. Вывести на экран данные из словаря `obj` построчно в виде `k = v`, задав формат таким образом, чтобы знак равенства оказался на одной и той же позиции во всех строках. Строковые литералы обернуть в кавычки."
   ]
  },
  {
   "cell_type": "code",
   "execution_count": null,
   "metadata": {
    "id": "MjOu3i33Heod"
   },
   "outputs": [],
   "source": [
    "obj = {\n",
    "    \"home_page\": \"https://github.com/pypa/sampleproject\",\n",
    "    \"keywords\": \"sample setuptools development\",\n",
    "    \"license\": \"MIT\",\n",
    "}"
   ]
  },
  {
   "cell_type": "markdown",
   "metadata": {
    "id": "IEfcdVlYHeoe"
   },
   "source": [
    "2. Написать регулярное выражение,которое позволит найти номера групп студентов."
   ]
  },
  {
   "cell_type": "code",
   "execution_count": null,
   "metadata": {
    "id": "fkcDJ3dvHeoe",
    "outputId": "73b93285-2d00-4df6-ba7c-fee59fea984e"
   },
   "outputs": [
    {
     "data": {
      "text/plain": [
       "0    Евгения гр.ПМ19-1\n",
       "1         Илья пм 20-4\n",
       "2            Анна 20-3\n",
       "dtype: object"
      ]
     },
     "execution_count": 4,
     "metadata": {},
     "output_type": "execute_result"
    }
   ],
   "source": [
    "obj = pd.Series([\"Евгения гр.ПМ19-1\", \"Илья пм 20-4\", \"Анна 20-3\"])\n",
    "obj"
   ]
  },
  {
   "cell_type": "markdown",
   "metadata": {
    "id": "NX4supdnHeog"
   },
   "source": [
    "3. Разбейте текст формулировки задачи 2 на слова."
   ]
  },
  {
   "cell_type": "markdown",
   "metadata": {
    "id": "Inbm4RRcHeog"
   },
   "source": [
    "## Лабораторная работа 6"
   ]
  },
  {
   "cell_type": "markdown",
   "metadata": {
    "id": "61wwj6U3Heoh"
   },
   "source": [
    "### Форматирование строк"
   ]
  },
  {
   "cell_type": "markdown",
   "metadata": {
    "id": "ZEjajJu0Heoh"
   },
   "source": [
    "1\\. Загрузите данные из файла `recipes_sample.csv` (__ЛР2__) в виде `pd.DataFrame` `recipes` При помощи форматирования строк выведите информацию об id рецепта и времени выполнения 5 случайных рецептов в виде таблицы следующего вида:\n",
    "\n",
    "    \n",
    "    |      id      |  minutes  |\n",
    "    |--------------------------|\n",
    "    |    61178     |    65     |\n",
    "    |    202352    |    80     |\n",
    "    |    364322    |    150    |\n",
    "    |    26177     |    20     |\n",
    "    |    224785    |    35     |\n",
    "    \n",
    "Обратите внимание, что ширина столбцов заранее неизвестна и должна рассчитываться динамически, в зависимости от тех данных, которые были выбраны. "
   ]
  },
  {
   "cell_type": "code",
   "execution_count": null,
   "metadata": {
    "id": "RgEM6y99aPtH"
   },
   "outputs": [],
   "source": []
  },
  {
   "cell_type": "code",
   "execution_count": 1,
   "metadata": {
    "colab": {
     "base_uri": "https://localhost:8080/"
    },
    "id": "9ZOItJt9VS_W",
    "outputId": "fa93a764-dfca-4484-d433-88ef145d07a0"
   },
   "outputs": [
    {
     "name": "stdout",
     "output_type": "stream",
     "text": [
      "|    id     | minutes   |\n",
      "-------------------------\n",
      "|  81757    |    55     |\n",
      "|  219131   |    30     |\n",
      "|  323527   |    10     |\n",
      "|  395526   |    55     |\n",
      "|  217404   |    7      |\n"
     ]
    }
   ],
   "source": [
    "import pandas as pd\n",
    "\n",
    "recipes = pd.read_csv('recipes_sample.csv')\n",
    "random_recipes = recipes.sample(n=5)[['id', 'minutes']]\n",
    "\n",
    "# форматирование вывода\n",
    "print(\"|{:^10} |{:^10} |\".format(\"id\", \"minutes\"))\n",
    "print(\"-\" * 25)\n",
    "for idx, row in random_recipes.iterrows():\n",
    "    print(\"|{:^10} |{:^10} |\".format(row['id'], row['minutes']))\n",
    "    "
   ]
  },
  {
   "cell_type": "markdown",
   "metadata": {
    "id": "-MhCXLOUHeoh"
   },
   "source": [
    "2\\. Напишите функцию `show_info`, которая по данным о рецепте создает строку (в смысле объекта python) с описанием следующего вида:\n",
    "\n",
    "```\n",
    "\"Название Из Нескольких Слов\"\n",
    "\n",
    "1. Шаг 1\n",
    "2. Шаг 2\n",
    "----------\n",
    "Автор: contributor_id\n",
    "Среднее время приготовления: minutes минут\n",
    "```\n",
    "\n",
    "    \n",
    "Данные для создания строки получите из файлов `recipes_sample.csv` (__ЛР2__) и `steps_sample.xml` (__ЛР3__). \n",
    "Вызовите данную функцию для рецепта с id `170895` и выведите (через `print`) полученную строку на экран."
   ]
  },
  {
   "cell_type": "code",
   "execution_count": 12,
   "metadata": {},
   "outputs": [
    {
     "name": "stdout",
     "output_type": "stream",
     "text": [
      "Leeks And Parsnips  Sauteed Or Creamed\n",
      "\n",
      "1. clean the leeks and discard the dark green portions\n",
      "2. cut the leeks lengthwise then into one-inch pieces\n",
      "3. melt the butter in a medium skillet , med\n",
      "4. heat\n",
      "5. add the garlic and fry 'til fragrant\n",
      "6. add leeks and fry until the leeks are tender , about 6-minutes\n",
      "7. meanwhile , peel and chunk the parsnips into one-inch pieces\n",
      "8. place in a steaming basket and steam 'til they are as tender as you prefer\n",
      "9. i like them fork-tender\n",
      "10. drain parsnips and add to the skillet with the leeks\n",
      "11. add salt and pepper\n",
      "12. gently sautee together for 5-minutes\n",
      "13. at this point you can serve it , or continue on and cream it:\n",
      "14. in a jar with a screw top , add the half-n-half and arrowroot\n",
      "15. shake 'til blended\n",
      "16. turn heat to low under the leeks and parsnips\n",
      "17. pour in the arrowroot mixture , stirring gently as you pour\n",
      "18. if too thick , gradually add the water\n",
      "19. let simmer for a couple of minutes\n",
      "20. taste to adjust seasoning , probably an additional 1 / 2 teaspoon salt\n",
      "21. serve warm\n",
      "----------\n",
      "Автор: 8377\n",
      "Среднее время приготовления: 27 минут\n"
     ]
    }
   ],
   "source": [
    "import xml.etree.ElementTree as ET\n",
    "import pandas as pd\n",
    "\n",
    "# загрузка данных о рецептах\n",
    "recipes = pd.read_csv('recipes_sample.csv')\n",
    "\n",
    "# загрузка данных о шагах приготовления рецептов\n",
    "tree = ET.parse('steps_sample.xml')\n",
    "root = tree.getroot()\n",
    "\n",
    "def show_info(recipe_id):\n",
    "    # поиск данных о рецепте по id\n",
    "    recipe = recipes[recipes['id'] == recipe_id].iloc[0]\n",
    "\n",
    "    # поиск шагов приготовления рецепта\n",
    "    recipe_steps = root.findall(\".//recipe[id='\" + str(recipe_id) + \"']/steps/step\")\n",
    "\n",
    "    # формирование строки с описанием рецепта\n",
    "    recipe_name = recipe['name'].title()\n",
    "    recipe_steps_text = \"\\n\".join([str(i+1) + \". \" + step.text for i, step in enumerate(recipe_steps)])\n",
    "    author = \"Автор: \" + str(recipe['contributor_id'])\n",
    "    avg_time = \"Среднее время приготовления: \" + str(recipe['minutes']) + \" минут\"\n",
    "\n",
    "    return recipe_name + \"\\n\\n\" + recipe_steps_text + \"\\n----------\\n\" + author + \"\\n\" + avg_time\n",
    "\n",
    "recipe_id = 170895\n",
    "recipe_info = show_info(recipe_id)\n",
    "print(recipe_info)"
   ]
  },
  {
   "cell_type": "code",
   "execution_count": 34,
   "metadata": {},
   "outputs": [
    {
     "name": "stdout",
     "output_type": "stream",
     "text": [
      "[]\n",
      "Leeks And Parsnips  Sauteed Or Creamed\n",
      "\n",
      "\n",
      "----------\n",
      "Автор: 8377\n",
      "Среднее время приготовления: 27 минут\n"
     ]
    }
   ],
   "source": [
    "from bs4 import BeautifulSoup\n",
    "import pandas as pd\n",
    "\n",
    "# загрузка данных о рецептах\n",
    "recipes = pd.read_csv('recipes_sample.csv')\n",
    "\n",
    "recipe_id = 170895\n",
    "with open('steps_sample.xml') as f:\n",
    "    f=f.read()\n",
    "soup = BeautifulSoup(f, 'xml')\n",
    "recipe = recipes[recipes['id'] == recipe_id].iloc[0]\n",
    "recipe_steps = soup.find_all(\".//recipe[id='\" + str(recipe_id) + \"']/steps/step\")\n",
    "print(recipe_steps)\n",
    "def show_info(recipe_id):\n",
    "    # поиск данных о рецепте по id\n",
    "    \n",
    "\n",
    "    # поиск шагов приготовления рецепта\n",
    "    #recipe_steps = soup.findall(\".//recipe[id='\" + str(recipe_id) + \"']/steps/step\")\n",
    "\n",
    "    # формирование строки с описанием рецепта\n",
    "    recipe_name = recipe['name'].title()\n",
    "    recipe_steps_text = \"\\n\".join([str(i+1) + \". \" + step.text for i, step in enumerate(recipe_steps)])\n",
    "    author = \"Автор: \" + str(recipe['contributor_id'])\n",
    "    avg_time = \"Среднее время приготовления: \" + str(recipe['minutes']) + \" минут\"\n",
    "\n",
    "    return recipe_name + \"\\n\\n\" + recipe_steps_text + \"\\n----------\\n\" + author + \"\\n\" + avg_time\n",
    "\n",
    "#recipe_id = 170895\n",
    "recipe_info = show_info(recipe_id)\n",
    "print(recipe_info)\n"
   ]
  },
  {
   "cell_type": "code",
   "execution_count": null,
   "metadata": {
    "id": "dPSGCA3ziqaq"
   },
   "outputs": [],
   "source": []
  },
  {
   "cell_type": "code",
   "execution_count": null,
   "metadata": {
    "colab": {
     "base_uri": "https://localhost:8080/",
     "height": 235
    },
    "id": "fYdAXTdVHeoi",
    "outputId": "f32c4438-f1e8-4495-f17f-90d535d361ad"
   },
   "outputs": [],
   "source": [
    "assert (\n",
    "    show_info(\n",
    "        name=\"george s at the cove black bean soup\",\n",
    "        steps=[\n",
    "            \"clean the leeks and discard the dark green portions\",\n",
    "            \"cut the leeks lengthwise then into one-inch pieces\",\n",
    "            \"melt the butter in a medium skillet , med\",\n",
    "        ],\n",
    "        minutes=90,\n",
    "        author_id=35193,\n",
    "    )\n",
    "    == '\"George S At The Cove Black Bean Soup\"\\n\\n1. Clean the leeks and discard the dark green portions\\n2. Cut the leeks lengthwise then into one-inch pieces\\n3. Melt the butter in a medium skillet , med\\n----------\\nАвтор: 35193\\nСреднее время приготовления: 90 минут\\n'\n",
    ")"
   ]
  },
  {
   "cell_type": "code",
   "execution_count": null,
   "metadata": {},
   "outputs": [],
   "source": [
    "s = 'test tent text contest'\n",
    "p = re.compile(r'[a-z]+((st)|(xt))') # Выводятся только фрагменты, которые заключены в круглые скобки\n",
    "print(p.findall(s))\n",
    "\n",
    "p = re.compile(r'([a-z]+((st)|(xt)))') # За счет внешних скобок выводятся и целые слова, соответствующие паттерну\n",
    "print(p.findall(s))\n",
    "\n",
    "p = re.compile(r'([a-z]+((?:st)|(?:xt)))') #С помощью ?: во всех вложенных фрагментах на печать выводятся только целые слова\n",
    "p.findall(s)"
   ]
  },
  {
   "cell_type": "markdown",
   "metadata": {
    "id": "QWFHpkjbHeoi"
   },
   "source": [
    "## Работа с регулярными выражениями"
   ]
  },
  {
   "cell_type": "markdown",
   "metadata": {
    "id": "Y4uoV2QeHeoj"
   },
   "source": [
    "3\\. Напишите регулярное выражение, которое ищет следующий паттерн в строке: число (1 цифра или более), затем пробел, затем слова: hour или hours или minute или minutes. Произведите поиск по данному регулярному выражению в каждом шаге рецепта с id 25082. Выведите на экран все непустые результаты, найденные по данному шаблону."
   ]
  },
  {
   "cell_type": "code",
   "execution_count": 307,
   "metadata": {
    "id": "YdioP3U0yZBt"
   },
   "outputs": [
    {
     "name": "stdout",
     "output_type": "stream",
     "text": [
      "Basic Whole Wheat Bread\n",
      "\n",
      "1. proof yeast in half a cup of the water , with about a teaspoon of flour- let it sit , covered , until it becomes bubbly& active\n",
      "2. combine the rest of the water with the yeast / water in a large bowl , and gradually add about half of the flour\n",
      "3. stir the mixture about 100 times in the same direction , until it is well-mixed and strands are beginning to form\n",
      "4. stir in the salt and oil\n",
      "5. add the remaining flour half a cup at a time , stirring well , until it is too stiff to stir with a spoon\n",
      "6. turn out onto a lightly floured board and knead for about 20 minutes , adding flour as nescessary to keep the dough from sticking to the board\n",
      "7. the dough should be springy and nice to work with\n",
      "8. when it has been sufficiently kneaded , cover it with a damp cloth for about 10 minutes and wash and grease the bowl lightly\n",
      "9. after it has rested , knead the dough a few more times and place it in the bowl , covered with the damp cloth , a plastic bag , and maybe a plate\n",
      "10. let the dough rise until it springs back when you stick your finger in it , and it is about twice the size as it was before (this takes about 2 hours\n",
      "11. longer or shorter depending on the room temperature- i prefer a longer rise , because it allows the flavour to develop more\n",
      "12. but sometimes you just don't have time for that sort of thing)\n",
      "13. deflate the dough by punching or kneading it a few times , and let it rise again- this time , it should take about half the amount of time as it did before\n",
      "14. when the dough has risen twice , deflate it again and cover it with the damp cloth again for about 10 minutes , then divide it into and shape it into loaves , buns , etc\n",
      "15. let the shaped dough rise on a baking sheet or in a loaf-pan for about an hour maybe- it will rise a bit more in the oven\n",
      "16. slash the top of the bread if you want , so that it doesn't bust open in the oven\n",
      "17. bake at 400 for 20 minutes , and then turn the oven down to 350 and bake for 20-30 minutes longer , until the loaf is a lovely brown and sounds hollow when you thump it on the bottom\n",
      "18. try to let the loaf cool before you tear into it\n",
      "----------\n",
      "Автор: 25483\n",
      "Среднее время приготовления: 290 минут\n"
     ]
    },
    {
     "data": {
      "text/plain": [
       "['20 minutes',\n",
       " '10 minutes',\n",
       " '2 hours',\n",
       " '10 minutes',\n",
       " '20 minutes',\n",
       " '30 minutes']"
      ]
     },
     "execution_count": 307,
     "metadata": {},
     "output_type": "execute_result"
    }
   ],
   "source": [
    "import re\n",
    "\n",
    "recipe_info = show_info(25082)\n",
    "print(recipe_info)\n",
    "\n",
    "#p=re.compile(r'([0-9]+ (hour|minute)s?)')\n",
    "p=re.compile(r'([0-9]+ hour?s?|[0-9]+ minute?s?)')\n",
    "'''\n",
    "res=re.findall(p,recipe_info)\n",
    "res\n",
    "'''\n",
    "p.findall(recipe_info)"
   ]
  },
  {
   "cell_type": "markdown",
   "metadata": {
    "id": "OIaMslJVHeoj"
   },
   "source": [
    "4\\. Напишите регулярное выражение, которое ищет шаблон вида \"this..., but\" _в начале строки_ . Между словом \"this\" и частью \", but\" может находиться произвольное число букв, цифр, знаков подчеркивания и пробелов. Никаких других символов вместо многоточия быть не может. Пробел между запятой и словом \"but\" может присутствовать или отсутствовать.\n",
    "\n",
    "Используя строковые методы `pd.Series`, выясните, для каких рецептов данный шаблон содержится в тексте описания. Выведите на экран количество таких рецептов и 3 примера подходящих описаний (текст описания должен быть виден на экране полностью)."
   ]
  },
  {
   "cell_type": "code",
   "execution_count": 308,
   "metadata": {
    "id": "ecL2Q8jByYvY"
   },
   "outputs": [
    {
     "name": "stdout",
     "output_type": "stream",
     "text": [
      "0        False\n",
      "1        False\n",
      "2        False\n",
      "3        False\n",
      "4        False\n",
      "         ...  \n",
      "29995    False\n",
      "29996    False\n",
      "29997    False\n",
      "29998     True\n",
      "29999    False\n",
      "Name: description, Length: 30000, dtype: object\n",
      "Количество рецептов, подходящих под шаблон: 134\n",
      "\n",
      "3 примера рецептов, подходящих под шаблон:\n",
      "[76, 183, 337, 486, 678, 769, 800, 1490, 1570, 1666, 2319, 2390, 2392, 2646, 2749, 2903, 3356, 3713, 3965, 4151, 4249, 4650, 4755, 4883, 5186, 5260, 5325, 5624, 5779, 5811, 5834, 6083, 6211, 6329, 6580, 6780, 6968, 7188, 7606, 7852, 7853, 7872, 8272, 8281, 8456, 8579, 8644, 9798, 9799, 10272, 10544, 10710, 11071, 11762, 11995, 12287, 12399, 12487, 13505, 13524, 13726, 13792, 14148, 14258, 14735, 14881, 14921, 15402, 15877, 15994, 15995, 16721, 16869, 17167, 17270, 17916, 18183, 18278, 18713, 19431, 19476, 19573, 19732, 19756, 20017, 20523, 20682, 20736, 20844, 21004, 21418, 21471, 21510, 21528, 21731, 21954, 22336, 22399, 22422, 22505, 22570, 22827, 23309, 23572, 23683, 23704, 24032, 24245, 24345, 24773, 25121, 25400, 25538, 25540, 25597, 26220, 26417, 26434, 26909, 27159, 27255, 27700, 27805, 28090, 28159, 28367, 28658, 28730, 28955, 29315, 29340, 29853, 29967, 29998]\n",
      "goes great with fresh chopped vegetables, crackers, and chips. be sure to have a lot ready for the guys when the sports game is on, cause it will go fast!\n",
      "only try these if you love lemon as they are pretty intense. i used the grater on the zest of one lemon and it was no where near 1-2 tbs  but i think it was plenty. we liked them but my son preferred his without the glaze. \n",
      "i'd like to try the glaze with confectioners sugar and try the muffins with vanilla yogurt some time.\n",
      "for those who like things a little hot on thanksgiving.\n"
     ]
    },
    {
     "data": {
      "text/plain": [
       "453725"
      ]
     },
     "execution_count": 308,
     "metadata": {},
     "output_type": "execute_result"
    }
   ],
   "source": [
    "\n",
    "#a=recipes.pd.Series['description']\n",
    "matches = recipes['description'].str.contains(pattern)\n",
    "print(matches)\n",
    "print(f'Количество рецептов, подходящих под шаблон: {matches.sum()}\\n')\n",
    "#recipes[matches]['description'][:3]\n",
    "print('3 примера рецептов, подходящих под шаблон:')\n",
    "q=[]\n",
    "c=0\n",
    "'''\n",
    "for i, desc in recipes[matches]['description'][:3].iteritems():\n",
    "    print(f'{i}: {desc}\\n')\n",
    "'''\n",
    "for i in range(30000):\n",
    "    if matches[i]==True:\n",
    "        q.append(matches.index[i])\n",
    "print(q)\n",
    "        #q=pd.Series(q)\n",
    "#print(recipes['id'], q)\n",
    "\n",
    "for i in range(0,30000):\n",
    "    if recipes['id'][i] in q:\n",
    "        #print([i])\n",
    "        #print(recipes['id'][i])\n",
    "        print(recipes['description'][i])\n",
    "        c+=1\n",
    "        if c==3:\n",
    "            break\n",
    "recipes['id'][26417]"
   ]
  },
  {
   "cell_type": "code",
   "execution_count": 327,
   "metadata": {},
   "outputs": [
    {
     "name": "stdout",
     "output_type": "stream",
     "text": [
      "0        False\n",
      "1        False\n",
      "2        False\n",
      "3        False\n",
      "4        False\n",
      "         ...  \n",
      "29995    False\n",
      "29996    False\n",
      "29997    False\n",
      "29998     True\n",
      "29999    False\n",
      "Name: description, Length: 30000, dtype: bool\n",
      "Количество рецептов, подходящих под шаблон: 134\n",
      "\n",
      "76                                                                                                                                                              this is a great meal eaten the same day ,but even better the next day , if you can wait! add your favourite spices, but try it first as it is and i think that you will enjoy the 'vegetable' taste. good for freezing.\n",
      "183    this was adapted from a recipe i found on the net, but i added julienne onion to the peppers.  this is a meal in itself, or you could have a small slice with a meat dish.  for those that like to have brunch, it's a bit different to your traditional quiche recipes.  if you love cheese, you could add 1/2 cup of your favorite to the egg mixture, then pour over peppers.\n",
      "337                                                                                                                                                                                                                                                                        this is kind of similar to some of the other versions out there, but it is the best and easiest i have found\n"
     ]
    }
   ],
   "source": [
    "#pd.set_option('display.max_colwidth', None)\n",
    "pattern = re.compile(r'^this[\\w\\s]+,\\s?but')\n",
    "matches1 = recipes['description'].str.contains(pattern,na=False)\n",
    "print(matches1)\n",
    "print(f'Количество рецептов, подходящих под шаблон: {matches1.sum()}\\n')\n",
    "#print(matches1)\n",
    "print(recipes.loc[matches1, 'description'].head(3).to_string())\n"
   ]
  },
  {
   "cell_type": "markdown",
   "metadata": {
    "id": "-6t58F8aHeok"
   },
   "source": [
    "5\\. В текстах шагов рецептов обыкновенные дроби имеют вид \"a / b\". Используя регулярные выражения, уберите в тексте шагов рецепта с id 72367 пробелы до и после символа дроби. Выведите на экран шаги этого рецепта после их изменения."
   ]
  },
  {
   "cell_type": "code",
   "execution_count": 340,
   "metadata": {},
   "outputs": [
    {
     "name": "stdout",
     "output_type": "stream",
     "text": [
      "1. mix butter , flour , 1 / 3 c\n",
      "2. sugar and 1-1 / 4 t\n",
      "3. vanilla\n",
      "4. press into greased 9\" springform pan\n",
      "5. mix cream cheese , 1 / 4 c\n",
      "6. sugar , eggs and 1 / 2 t\n",
      "7. vanilla beating until fluffy\n",
      "8. pour over dough\n",
      "9. combine apples , 1 / 3 c\n",
      "10. sugar and cinnamon\n",
      "11. arrange on top of cream cheese mixture and sprinkle with almonds\n",
      "12. bake at 350 for 45-55 minutes , or until tester comes out clean\n",
      "\n",
      " 1. mix butter , flour , 1/3 c\n",
      "2. sugar and 1-1/4 t\n",
      "3. vanilla\n",
      "4. press into greased 9\" springform pan\n",
      "5. mix cream cheese , 1/4 c\n",
      "6. sugar , eggs and 1/2 t\n",
      "7. vanilla beating until fluffy\n",
      "8. pour over dough\n",
      "9. combine apples , 1/3 c\n",
      "10. sugar and cinnamon\n",
      "11. arrange on top of cream cheese mixture and sprinkle with almonds\n",
      "12. bake at 350 for 45-55 minutes , or until tester comes out clean\n"
     ]
    }
   ],
   "source": [
    "recipe_steps = root.findall(\".//recipe[id='\" + str(72367) + \"']/steps/step\")\n",
    "text = \"\\n\".join([str(i+1) + \". \" + step.text for i, step in enumerate(recipe_steps)])\n",
    "print(text)\n",
    "#pattern = re.compile(r'\\d+\\s*/\\s*\\d+')\n",
    "text = re.sub(r'([0-9]+) / ([0-9]+)',r'\\1/\\2', text)\n",
    "print('\\n', text)"
   ]
  },
  {
   "cell_type": "markdown",
   "metadata": {
    "id": "cpNPud7QHeok"
   },
   "source": [
    "### Сегментация текста"
   ]
  },
  {
   "cell_type": "markdown",
   "metadata": {
    "id": "u8J_WiWcHeok"
   },
   "source": [
    "6\\. Разбейте тексты шагов рецептов на слова при помощи пакета `nltk`. Посчитайте и выведите на экран кол-во уникальных слов среди всех рецептов. Словом называется любая последовательность алфавитных символов (для проверки можно воспользоваться `str.isalpha`). При подсчете количества уникальных слов не учитывайте регистр."
   ]
  },
  {
   "cell_type": "markdown",
   "metadata": {},
   "source": [
    "7\\. Разбейте описания рецептов из `recipes` на предложения при помощи пакета `nltk`. Найдите 5 самых длинных описаний (по количеству _предложений_) рецептов в датасете и выведите строки фрейма, соответствующие этим рецептами, в порядке убывания длины."
   ]
  },
  {
   "cell_type": "markdown",
   "metadata": {
    "id": "ZSqmtdIvHeol"
   },
   "source": [
    "8\\. Напишите функцию, которая для заданного предложения выводит информацию о частях речи слов, входящих в предложение, в следующем виде:\n",
    "```\n",
    "PRP   VBD   DT      NNS     CC   VBD      NNS        RB   \n",
    " I  omitted the raspberries and added strawberries instead\n",
    "``` \n",
    "Для определения части речи слова можно воспользоваться `nltk.pos_tag`.\n",
    "\n",
    "Проверьте работоспособность функции на названии рецепта с id 241106.\n",
    "\n",
    "Обратите внимание, что часть речи должна находиться ровно посередине над соотвествующим словом, а между самими словами должен быть ровно один пробел.\n"
   ]
  },
  {
   "cell_type": "code",
   "execution_count": null,
   "metadata": {},
   "outputs": [],
   "source": []
  }
 ],
 "metadata": {
  "colab": {
   "provenance": [],
   "toc_visible": true
  },
  "kernelspec": {
   "display_name": "Python 3 (ipykernel)",
   "language": "python",
   "name": "python3"
  },
  "language_info": {
   "codemirror_mode": {
    "name": "ipython",
    "version": 3
   },
   "file_extension": ".py",
   "mimetype": "text/x-python",
   "name": "python",
   "nbconvert_exporter": "python",
   "pygments_lexer": "ipython3",
   "version": "3.9.7"
  }
 },
 "nbformat": 4,
 "nbformat_minor": 1
}
